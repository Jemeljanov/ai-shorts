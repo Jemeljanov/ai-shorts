{
 "cells": [
  {
   "attachments": {},
   "cell_type": "markdown",
   "metadata": {},
   "source": [
    "# Environment"
   ]
  },
  {
   "attachments": {},
   "cell_type": "markdown",
   "metadata": {},
   "source": [
    "### Import required packages"
   ]
  },
  {
   "cell_type": "code",
   "execution_count": null,
   "metadata": {},
   "outputs": [],
   "source": [
    "import argparse\n",
    "import dotenv\n",
    "import httplib2\n",
    "import json\n",
    "import os\n",
    "\n",
    "from oauth2client.client import flow_from_clientsecrets\n",
    "from oauth2client.file import Storage\n",
    "from oauth2client.tools import argparser, run_flow"
   ]
  },
  {
   "attachments": {},
   "cell_type": "markdown",
   "metadata": {},
   "source": [
    "### Load .env variables inside custom file"
   ]
  },
  {
   "cell_type": "code",
   "execution_count": null,
   "metadata": {},
   "outputs": [],
   "source": [
    "PROJECT_PATH = os.path.dirname(os.getcwd())\n",
    "dotenv.load_dotenv(\n",
    "    dotenv_path=os.path.join(PROJECT_PATH, '.env'),\n",
    "    verbose=True\n",
    ")"
   ]
  },
  {
   "attachments": {},
   "cell_type": "markdown",
   "metadata": {},
   "source": [
    "### Declare env vars globally"
   ]
  },
  {
   "cell_type": "code",
   "execution_count": null,
   "metadata": {},
   "outputs": [],
   "source": [
    "oauth_client_id = os.getenv(\"OAUTH_CLIENT_ID\")\n",
    "oauth_client_secret = os.getenv(\"OAUTH_CLIENT_SECRET\")"
   ]
  },
  {
   "attachments": {},
   "cell_type": "markdown",
   "metadata": {},
   "source": [
    "# Google Drive API"
   ]
  },
  {
   "attachments": {},
   "cell_type": "markdown",
   "metadata": {},
   "source": [
    "### Create json file for auth"
   ]
  },
  {
   "cell_type": "code",
   "execution_count": null,
   "metadata": {},
   "outputs": [],
   "source": [
    "def create_client_secrets(\n",
    "    client_id: str = oauth_client_id,\n",
    "    client_secret: str = oauth_client_secret,\n",
    ") -> None:\n",
    "    \"\"\"\n",
    "    Create the json file to authenticate\n",
    "    python to acess Google Sheet API.\n",
    "    \"\"\"\n",
    "    client_json = {\n",
    "        \"web\": {\n",
    "            \"client_id\": client_id,\n",
    "            \"client_secret\": client_secret,\n",
    "            \"redirect_uris\": [],\n",
    "            \"auth_uri\":\"https://accounts.google.com/o/oauth2/auth\",\n",
    "            \"token_uri\":\"https://oauth2.googleapis.com/token\"\n",
    "        }\n",
    "    }\n",
    "    # Save dict as a json file\n",
    "    with open(os.path.join(PROJECT_PATH, 'client_secrets.json'), 'w') as fp:\n",
    "        json.dump(client_json, fp)"
   ]
  },
  {
   "cell_type": "code",
   "execution_count": null,
   "metadata": {},
   "outputs": [],
   "source": [
    "# Creating json through custom function\n",
    "json_auth = create_client_secrets()"
   ]
  },
  {
   "attachments": {},
   "cell_type": "markdown",
   "metadata": {},
   "source": [
    "### Set up the credentials"
   ]
  },
  {
   "attachments": {},
   "cell_type": "markdown",
   "metadata": {},
   "source": [
    "1 - Activate Google Drive API \\\n",
    "2 - Create service account \\\n",
    "3 - Grant access to Google Cloud project with your personal email \\\n",
    "4 - Add service account key \\\n",
    "3 - Share google drive with client_email"
   ]
  },
  {
   "attachments": {},
   "cell_type": "markdown",
   "metadata": {},
   "source": [
    "##### Create args"
   ]
  },
  {
   "cell_type": "code",
   "execution_count": null,
   "metadata": {},
   "outputs": [],
   "source": [
    "args = argparse.Namespace(\n",
    "    auth_host_name='localhost',\n",
    "    noauth_local_webserver=False,\n",
    "    auth_host_port=[8080, 8090],\n",
    "    logging_level='ERROR',\n",
    "    file='a_burning_forest.mp4',\n",
    "    title='A Burning Forest',\n",
    "    description='A Burning Forest to a Flowered Forest',\n",
    "    category='22',\n",
    "    keywords='burning,forest,shorts',\n",
    "    privacyStatus='unlisted'\n",
    ")"
   ]
  },
  {
   "attachments": {},
   "cell_type": "markdown",
   "metadata": {},
   "source": [
    "##### Create oauth json"
   ]
  },
  {
   "cell_type": "code",
   "execution_count": null,
   "metadata": {},
   "outputs": [],
   "source": []
  }
 ],
 "metadata": {
  "kernelspec": {
   "display_name": "venv",
   "language": "python",
   "name": "python3"
  },
  "language_info": {
   "codemirror_mode": {
    "name": "ipython",
    "version": 3
   },
   "file_extension": ".py",
   "mimetype": "text/x-python",
   "name": "python",
   "nbconvert_exporter": "python",
   "pygments_lexer": "ipython3",
   "version": "3.9.12"
  },
  "orig_nbformat": 4
 },
 "nbformat": 4,
 "nbformat_minor": 2
}
