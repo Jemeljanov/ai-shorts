{
 "cells": [
  {
   "attachments": {},
   "cell_type": "markdown",
   "metadata": {},
   "source": [
    "# Environment"
   ]
  },
  {
   "attachments": {},
   "cell_type": "markdown",
   "metadata": {},
   "source": [
    "### Import required packages"
   ]
  },
  {
   "cell_type": "code",
   "execution_count": null,
   "metadata": {},
   "outputs": [],
   "source": [
    "from apiclient.discovery import build\n",
    "import dotenv\n",
    "from googleapiclient.http import MediaIoBaseDownload\n",
    "from httplib2 import Http\n",
    "import io\n",
    "import json\n",
    "from oauth2client.service_account import ServiceAccountCredentials\n",
    "import os"
   ]
  },
  {
   "attachments": {},
   "cell_type": "markdown",
   "metadata": {},
   "source": [
    "### Load .env variables inside custom file"
   ]
  },
  {
   "cell_type": "code",
   "execution_count": null,
   "metadata": {},
   "outputs": [],
   "source": [
    "PROJECT_PATH = os.path.dirname(os.getcwd())\n",
    "dotenv.load_dotenv(\n",
    "    dotenv_path=os.path.join(PROJECT_PATH, '.env'),\n",
    "    verbose=True\n",
    ")"
   ]
  },
  {
   "attachments": {},
   "cell_type": "markdown",
   "metadata": {},
   "source": [
    "### Declare env vars globally"
   ]
  },
  {
   "cell_type": "code",
   "execution_count": null,
   "metadata": {},
   "outputs": [],
   "source": [
    "project_id = os.getenv(\"GOOGLE_PROJECT\")\n",
    "client_id = os.getenv(\"GOOGLE_CLIENT_ID\")\n",
    "private_key_id = os.getenv(\"GOOGLE_PRIVATE_KEY_ID\")\n",
    "private_key = os.getenv(\"GOOGLE_PRIVATE_KEY\")\n",
    "main_folder_id = os.getenv(\"MAIN_FOLDER_ID\")"
   ]
  },
  {
   "attachments": {},
   "cell_type": "markdown",
   "metadata": {},
   "source": [
    "# Google Drive API"
   ]
  },
  {
   "attachments": {},
   "cell_type": "markdown",
   "metadata": {},
   "source": [
    "### Create json file for auth"
   ]
  },
  {
   "cell_type": "code",
   "execution_count": null,
   "metadata": {},
   "outputs": [],
   "source": [
    "def create_dict_auth(\n",
    "    project_id_: str = project_id,\n",
    "    client_id_: str = client_id,\n",
    "    private_key_id_: str = private_key_id,\n",
    "    private_key_: str = private_key\n",
    ") -> None:\n",
    "    \"\"\"\n",
    "    Create the json file to authenticate\n",
    "    python to acess Google Sheet API.\n",
    "    \"\"\"\n",
    "    key_json = {}\n",
    "    # Decode key to remove '//'\n",
    "    decode_key = bytes(private_key_, \"utf-8\").decode(\"unicode_escape\")\n",
    "    # Some default variables\n",
    "    api = \"googleapis.com\"\n",
    "    py_con = \"dark-service\"\n",
    "    # Declaring each key-value pair\n",
    "    key_json[\"type\"] = \"service_account\"\n",
    "    key_json[\"project_id\"] = project_id_\n",
    "    key_json[\"private_key_id\"] = private_key_id_\n",
    "    key_json[\"private_key\"] = decode_key\n",
    "    key_json[\"client_email\"] = f\"{py_con}@{project_id_}.iam.gserviceaccount.com\"\n",
    "    key_json[\"client_id\"] = client_id_\n",
    "    key_json[\"auth_uri\"] = \"https://accounts.google.com/o/oauth2/auth\"\n",
    "    key_json[\"token_uri\"] = f\"https://oauth2.{api}/token\"\n",
    "    key_json[\"auth_provider_x509_cert_url\"] = f\"https://www.{api}/oauth2/v1/certs\"\n",
    "    key_json[\"client_x509_cert_url\"] = f\"https://www.{api}/robot/v1/metadata/x509/{py_con}%40{project_id}.iam.gserviceaccount.com\"\n",
    "    # Save dict as a json file\n",
    "    with open(os.path.join(PROJECT_PATH, 'google_service_account.json'), 'w') as fp:\n",
    "        json.dump(key_json, fp)"
   ]
  },
  {
   "cell_type": "code",
   "execution_count": null,
   "metadata": {},
   "outputs": [],
   "source": [
    "# Creating json through custom function\n",
    "json_auth = create_dict_auth()"
   ]
  },
  {
   "attachments": {},
   "cell_type": "markdown",
   "metadata": {},
   "source": [
    "### Set up the credentials"
   ]
  },
  {
   "attachments": {},
   "cell_type": "markdown",
   "metadata": {},
   "source": [
    "1 - Activate Google Drive API \\\n",
    "2 - Create service account \\\n",
    "3 - Grant access to Google Cloud project with your personal email \\\n",
    "4 - Add service account key \\\n",
    "3 - Share google drive with client_email"
   ]
  },
  {
   "attachments": {},
   "cell_type": "markdown",
   "metadata": {},
   "source": [
    "##### Create client config"
   ]
  },
  {
   "cell_type": "code",
   "execution_count": null,
   "metadata": {},
   "outputs": [],
   "source": [
    "# Authenticate with json keyfile\n",
    "credentials = ServiceAccountCredentials.from_json_keyfile_name(\n",
    "    os.path.join(PROJECT_PATH, 'google_service_account.json'),\n",
    "    scopes=['https://www.googleapis.com/auth/drive']\n",
    ")\n",
    "# Authorize with http connection\n",
    "http_auth = credentials.authorize(Http())\n",
    "drive = build('drive', 'v3', http=http_auth)"
   ]
  },
  {
   "attachments": {},
   "cell_type": "markdown",
   "metadata": {},
   "source": [
    "##### Check connection with ai-shorts folder in Google Drive"
   ]
  },
  {
   "cell_type": "code",
   "execution_count": null,
   "metadata": {},
   "outputs": [],
   "source": [
    "# From project folder, print files/folders\n",
    "request = drive.files().list(\n",
    "    orderBy=\"modifiedTime desc\",\n",
    "    q=f\"'{main_folder_id}' in parents\",\n",
    "    fields=\"files(id, name)\"\n",
    ").execute()\n",
    "subfolders = request.get('files', [])\n",
    "for f in subfolders:\n",
    "    print(f)\n",
    "\n",
    "# Store subfolder id\n",
    "target_subfolder = subfolders[0][\"id\"]\n",
    "target_subfolder"
   ]
  },
  {
   "cell_type": "code",
   "execution_count": null,
   "metadata": {},
   "outputs": [],
   "source": [
    "# Extract video id from subfolder id\n",
    "request_2 = drive.files().list(\n",
    "    pageSize=5,\n",
    "    orderBy=\"modifiedTime desc\",\n",
    "    q=f\"'{target_subfolder}' in parents\",\n",
    "    fields=\"files(id, name)\"\n",
    ").execute()\n",
    "subfolders_2 = request_2.get('files', [])\n",
    "for sub in subfolders_2:\n",
    "    print(sub)\n",
    "\n",
    "# Get result\n",
    "file_id = next((dict_['id'] for dict_ in subfolders_2 if dict_['name'].endswith('.mp4')), None)\n",
    "file_id"
   ]
  },
  {
   "attachments": {},
   "cell_type": "markdown",
   "metadata": {},
   "source": [
    "##### Extracting video and upload to github workspace"
   ]
  },
  {
   "cell_type": "code",
   "execution_count": null,
   "metadata": {},
   "outputs": [],
   "source": [
    "# Request content\n",
    "request = drive.files().get_media(fileId=file_id)\n",
    "file_name = drive.files().get(fileId=file_id).execute()['name']\n",
    "\n",
    "# Define path to save\n",
    "file_path = os.path.join(PROJECT_PATH, file_name)\n",
    "fh = io.FileIO(file_path, 'wb')\n",
    "\n",
    "# Download content\n",
    "downloader = MediaIoBaseDownload(fh, request)\n",
    "done = False\n",
    "while not done:\n",
    "    status, done = downloader.next_chunk()\n",
    "\n",
    "print(f\"Download progress: {status.progress() * 100:.2f}%\")\n",
    "print(f\"File downloaded to: {file_path}\")"
   ]
  }
 ],
 "metadata": {
  "kernelspec": {
   "display_name": "venv",
   "language": "python",
   "name": "python3"
  },
  "language_info": {
   "codemirror_mode": {
    "name": "ipython",
    "version": 3
   },
   "file_extension": ".py",
   "mimetype": "text/x-python",
   "name": "python",
   "nbconvert_exporter": "python",
   "pygments_lexer": "ipython3",
   "version": "3.9.12"
  },
  "orig_nbformat": 4
 },
 "nbformat": 4,
 "nbformat_minor": 2
}
